{
 "cells": [
  {
   "cell_type": "code",
   "execution_count": 1,
   "id": "9c471ac3-2b2c-45cd-826b-51f08d4ba56a",
   "metadata": {},
   "outputs": [],
   "source": [
    "import scipy as sp #calcul numérique\n",
    "import numpy as np #calcul numérique\n",
    "\n",
    "import sympy as sy #calcul symbolique"
   ]
  },
  {
   "cell_type": "markdown",
   "id": "98807d66-b176-4b13-83d8-3f4435d12243",
   "metadata": {},
   "source": [
    "**Exercice 1**"
   ]
  },
  {
   "cell_type": "code",
   "execution_count": 2,
   "id": "afc35d6d-c3ce-4aec-80ea-c0eee7024684",
   "metadata": {},
   "outputs": [],
   "source": [
    "# déclaration des symboles utilisés\n",
    "# inconnues\n",
    "\n",
    "x,y,z,m = sy.symbols('x,y,z,m')\n"
   ]
  },
  {
   "cell_type": "markdown",
   "id": "cdc34747-3d0c-459e-a23d-be5ea9d9abc8",
   "metadata": {},
   "source": [
    "$$\\newcommand{\\pp}{\\:+\\:}\\newcommand{\\mm}{\\:-\\:}\\newcommand{\\ee}{\\:=\\:}\n",
    "1)\\qquad \\left\\{\\begin{alignat*}{4}\n",
    "&& x &&\\mm &&2y  &&\\ee && 2\\\\\n",
    "&& x &&\\mm  &&my &&\\ee && m\n",
    "\\end{alignat*}\n",
    "\\right.\n",
    "$$"
   ]
  },
  {
   "cell_type": "code",
   "execution_count": 3,
   "id": "bdfd22ee-dfc0-479c-a63d-18fa6cda2cde",
   "metadata": {},
   "outputs": [
    {
     "name": "stdout",
     "output_type": "stream",
     "text": [
      "Solution du système : {(0, -1)}\n"
     ]
    }
   ],
   "source": [
    "# 2. linsolve\n",
    "S1=sy.linsolve((x-2*y-2,x-m*y-m),(x,y))\n",
    "print('Solution du système : {}'.format(S1))"
   ]
  },
  {
   "cell_type": "markdown",
   "id": "2f96ed9a-5c98-4957-8fdf-3de28f11fa24",
   "metadata": {},
   "source": [
    "**Exercice 2**"
   ]
  },
  {
   "cell_type": "markdown",
   "id": "c5025556-7b2e-455c-ad48-31da54ff01b9",
   "metadata": {},
   "source": [
    "$$\\newcommand{\\pp}{\\:+\\:}\\newcommand{\\mm}{\\:-\\:}\\newcommand{\\ee}{\\:=\\:}\n",
    "1)\\qquad \\left\\{\\begin{alignat*}{5}\n",
    "&& x &&\\pp 2y \\pp &&3z&&\\ee&&14\\\\\n",
    "&& 4x &&\\pp 5y\\pp &&6z&&\\ee&&32\\\\\n",
    "&& 7x &&\\pp 8 y\\pp &&10z&&\\ee&&53\n",
    "\\end{alignat*}\n",
    "\\right.\n",
    "$$"
   ]
  },
  {
   "cell_type": "code",
   "execution_count": 4,
   "id": "5a0a66a3-8943-429c-af74-f911dfd3878d",
   "metadata": {},
   "outputs": [
    {
     "name": "stdout",
     "output_type": "stream",
     "text": [
      "Solution du système : {(1, 2, 3)}\n"
     ]
    }
   ],
   "source": [
    "Sa=sy.linsolve((x+2*y+3*z-14,4*x+5*y+6*z-32,7*x+8*y+10*z-53),(x,y,z))\n",
    "print('Solution du système : {}'.format(Sa))"
   ]
  },
  {
   "cell_type": "markdown",
   "id": "1ab2a05c-dba7-46ba-8f13-a5a88b029d6c",
   "metadata": {},
   "source": [
    "$$%\\newcommand{\\pp}{\\:+\\:}\\newcommand{\\mm}{\\:-\\:}\\newcommand{\\ee}{\\:=\\:}\n",
    "2) \\qquad \\left\\{\\begin{alignat*}{6}\n",
    "&& 2x &&\\pp 3y \\mm && z &&\\ee&& -1&&\\\\\n",
    "&& x &&\\pp 2y \\pp && 3z &&\\ee&& 2&&\\\\\n",
    "&& 3x &&\\pp 4y \\mm && 5z &&\\ee&& -4&& \n",
    "\\end{alignat*}\n",
    "\\right.\n",
    "$$"
   ]
  },
  {
   "cell_type": "code",
   "execution_count": 5,
   "id": "2fbeab43-1966-40db-a299-fc06a485cdb7",
   "metadata": {},
   "outputs": [
    {
     "name": "stdout",
     "output_type": "stream",
     "text": [
      "Solution du système : {(11*z - 8, 5 - 7*z, z)}\n"
     ]
    }
   ],
   "source": [
    "Sb=sy.linsolve((2*x+3*y-z+1,x+2*y+3*z-2,3*x+4*y-5*z+4),(x,y,z))\n",
    "print('Solution du système : {}'.format(Sb))"
   ]
  },
  {
   "cell_type": "code",
   "execution_count": 6,
   "id": "8f5d02db-0913-4710-830d-6e98a6b13448",
   "metadata": {},
   "outputs": [
    {
     "name": "stdout",
     "output_type": "stream",
     "text": [
      "Solution du système : {(2, 0, 1)}\n"
     ]
    }
   ],
   "source": [
    "Sc=sy.linsolve((x-2*y + 3*z - 5,2*x - 4*y + z - 5,3*x - 5*y + 2*z - 8),(x,y,z))\n",
    "print('Solution du système : {}'.format(Sc))"
   ]
  },
  {
   "cell_type": "code",
   "execution_count": 7,
   "id": "5307e8f4-c754-45f7-9098-4b037f62caa9",
   "metadata": {},
   "outputs": [
    {
     "name": "stdout",
     "output_type": "stream",
     "text": [
      "Solution du système Sd : {(5/3, -7/9, -4/9)}\n"
     ]
    }
   ],
   "source": [
    "Sd=sy.linsolve((2*x + y - z - 3,x-y+z - 2,x + y + 2*z),(x,y,z))\n",
    "print('Solution du système Sd : {}'.format(Sd))"
   ]
  }
 ],
 "metadata": {
  "kernelspec": {
   "display_name": "Python 3 (ipykernel)",
   "language": "python",
   "name": "python3"
  },
  "language_info": {
   "codemirror_mode": {
    "name": "ipython",
    "version": 3
   },
   "file_extension": ".py",
   "mimetype": "text/x-python",
   "name": "python",
   "nbconvert_exporter": "python",
   "pygments_lexer": "ipython3",
   "version": "3.10.9"
  }
 },
 "nbformat": 4,
 "nbformat_minor": 5
}
